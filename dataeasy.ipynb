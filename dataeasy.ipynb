{
 "cells": [
  {
   "cell_type": "code",
   "execution_count": 71,
   "id": "67554bdf",
   "metadata": {},
   "outputs": [
    {
     "name": "stdout",
     "output_type": "stream",
     "text": [
      "4 Saatten az olduğu için kullanım zararsızdır.\n",
      "4 Saatten az olduğu için kullanım zararsızdır.\n",
      "4 Saatten çok olduğu için kullanım zararlıdır.\n",
      "4 Saatten az olduğu için kullanım zararsızdır.\n",
      "4 Saatten az olduğu için kullanım zararsızdır.\n",
      "4 Saatten çok olduğu için kullanım zararlıdır.\n",
      "4 Saatten az olduğu için kullanım zararsızdır.\n",
      "4 Saatten çok olduğu için kullanım zararlıdır.\n",
      "4 Saatten az olduğu için kullanım zararsızdır.\n",
      "4 Saatten az olduğu için kullanım zararsızdır.\n",
      "4 Saatten az olduğu için kullanım zararsızdır.\n",
      "4 Saatte eşit olduğu için kullanım dengelidir.\n",
      "4 Saatten az olduğu için kullanım zararsızdır.\n",
      "4 Saatten çok olduğu için kullanım zararlıdır.\n",
      "4 Saatten çok olduğu için kullanım zararlıdır.\n",
      "4 Saatten çok olduğu için kullanım zararlıdır.\n",
      "4 Saatten az olduğu için kullanım zararsızdır.\n",
      "4 Saatten çok olduğu için kullanım zararlıdır.\n",
      "4 Saatten çok olduğu için kullanım zararlıdır.\n",
      "4 Saatten az olduğu için kullanım zararsızdır.\n",
      "4 Saatten çok olduğu için kullanım zararlıdır.\n"
     ]
    }
   ],
   "source": [
    "import pandas as pd\n",
    "\n",
    "last = pd.read_csv(\"Veri.csv\")     \n",
    "\n",
    "x1 = last.iloc[:,2:3]\n",
    "x2 = last.iloc[:,3:4]\n",
    "y = last.iloc[:,4:5]\n",
    "z = 4\n",
    "\n",
    "for a in x1:\n",
    "    for b in x2:\n",
    "        for c in y:\n",
    "            result = y[c] - (x1[a] + x2[b])\n",
    "            for d in result:\n",
    "                if d < z:\n",
    "                    print('4 Saatten az olduğu için kullanım zararsızdır.')\n",
    "                elif d == z:\n",
    "                    print('4 Saatte eşit olduğu için kullanım dengelidir.')\n",
    "                elif d > z:\n",
    "                    print('4 Saatten çok olduğu için kullanım zararlıdır.')\n",
    "                else:     \n",
    "                    print(\"Hatalı giriş\")\n"
   ]
  },
  {
   "cell_type": "code",
   "execution_count": null,
   "id": "82fd9c92",
   "metadata": {},
   "outputs": [],
   "source": []
  },
  {
   "cell_type": "code",
   "execution_count": null,
   "id": "2c98be4a",
   "metadata": {},
   "outputs": [],
   "source": []
  }
 ],
 "metadata": {
  "kernelspec": {
   "display_name": "Python 3.9.5 64-bit",
   "language": "python",
   "name": "python395jvsc74a57bd0aee8b7b246df8f9039afb4144a1f6fd8d2ca17a180786b69acc140d282b71a49"
  },
  "language_info": {
   "codemirror_mode": {
    "name": "ipython",
    "version": 3
   },
   "file_extension": ".py",
   "mimetype": "text/x-python",
   "name": "python",
   "nbconvert_exporter": "python",
   "pygments_lexer": "ipython3",
   "version": "3.9.5"
  }
 },
 "nbformat": 4,
 "nbformat_minor": 5
}
